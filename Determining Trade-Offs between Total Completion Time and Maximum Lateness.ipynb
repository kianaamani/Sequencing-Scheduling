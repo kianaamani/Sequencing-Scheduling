{
  "nbformat": 4,
  "nbformat_minor": 0,
  "metadata": {
    "colab": {
      "provenance": []
    },
    "kernelspec": {
      "name": "python3",
      "display_name": "Python 3"
    },
    "language_info": {
      "name": "python"
    }
  },
  "cells": [
    {
      "cell_type": "markdown",
      "source": [
        "# **Defining the inputs**"
      ],
      "metadata": {
        "id": "xMQjD2BGoJiP"
      }
    },
    {
      "cell_type": "code",
      "source": [
        "import pandas as pd\n",
        "\n",
        "data = pd.DataFrame({'1' : [1, 2, 3], '2' : [2, 2, 5], '3' : [3, 3, 3],\n",
        "                   '4' : [4, 2, 6], '5' : [5, 3, 3], '6' : [6, 6, 2],\n",
        "                   '7' : [ 7, 3, 4], '8' : [8, 1, 8], '9' : [9, 4, 7],\n",
        "                   '10' : [10, 4, 4], '11' : [11, 11, 12]}, index = ['Job', 'Pj', 'dj']).T"
      ],
      "metadata": {
        "id": "ehwLx6D_oOxr"
      },
      "execution_count": 2,
      "outputs": []
    },
    {
      "cell_type": "markdown",
      "source": [
        "# **Defining the functions**"
      ],
      "metadata": {
        "id": "y0rN9Hgxp7up"
      }
    },
    {
      "cell_type": "code",
      "source": [
        "def SPT_EDD(df):\n",
        "    # Sort jobs by processing time in ascending order\n",
        "    return df.sort_values(by = ['Pj', 'dj'])"
      ],
      "metadata": {
        "id": "7fbIDIfL64iy"
      },
      "execution_count": 3,
      "outputs": []
    },
    {
      "cell_type": "code",
      "source": [
        "def EDD(df):\n",
        "  return df.sort_values(by = ['dj'])"
      ],
      "metadata": {
        "id": "U_KiUtF93gna"
      },
      "execution_count": 4,
      "outputs": []
    },
    {
      "cell_type": "code",
      "source": [
        "def Lmax_EDD(n, EDD):\n",
        "    Lj = []\n",
        "    total_process_time = 0\n",
        "    for i in range(n):\n",
        "        total_process_time += EDD['Pj'][i]\n",
        "        if total_process_time > EDD['dj'][i]:\n",
        "            Lj.append(total_process_time - EDD['dj'][i])\n",
        "    return max(Lj)"
      ],
      "metadata": {
        "id": "6DzEBmza575T"
      },
      "execution_count": 5,
      "outputs": []
    },
    {
      "cell_type": "markdown",
      "source": [
        "# **Trade-Offs between Total Completion Time and Maximum Lateness**"
      ],
      "metadata": {
        "id": "LprYRfzTBhNK"
      }
    },
    {
      "cell_type": "code",
      "source": [
        "# Define lists to store the points for the trade-off curve\n",
        "total_completion_times = []\n",
        "maximum_latenesses = []\n",
        "\n",
        "# Step 1\n",
        "r = 1\n",
        "EDD = EDD(data)\n",
        "SPT_EDD = SPT_EDD(data)\n",
        "n = EDD.shape[0]\n",
        "Lmax = Lmax_EDD(n, EDD)\n",
        "EDD['dd'] = EDD['dj'] + Lmax\n",
        "Lmax_SPT_EDD = Lmax_EDD(n, SPT_EDD)\n",
        "\n",
        "# Step 2\n",
        "while Lmax <= Lmax_SPT_EDD:\n",
        "    sequence = []\n",
        "    k = n\n",
        "    Jc = list(EDD['Job'])\n",
        "    tau = EDD['Pj'].sum()\n",
        "    delta = tau\n",
        "\n",
        "    # Step 3\n",
        "    while k >= 1:\n",
        "        L = EDD.loc[(EDD['dd'] >= tau) & (EDD['Job']).isin(Jc)].sort_values(by = 'Pj', ascending = False)\n",
        "        j_star = L.iloc[0, 0]\n",
        "        P_j_star = L.iloc[0, 1]\n",
        "        sequence.insert(0, j_star)\n",
        "        total_completion_time = SPT_EDD['Pj'].sum()  # Replace SPT_EDD with the sequence produced\n",
        "        total_completion_times.append(total_completion_time)\n",
        "        maximum_latenesses.append(L)\n",
        "        # Step 4\n",
        "        l_new = EDD.loc[EDD['dd'] < tau].sort_values(by = 'dd', ascending = False)\n",
        "        if len(list(l_new['Job'])) != 0:\n",
        "            delta_star_star = tau - l_new.iloc[0, 3]\n",
        "            if delta_star_star < delta:\n",
        "                delta = delta_star_star\n",
        "\n",
        "        # Step 5\n",
        "        k -= 1\n",
        "        tau -= P_j_star\n",
        "        Jc.remove(j_star)\n",
        "\n",
        "    # Step 6\n",
        "    r += 1\n",
        "    EDD['dd'] += delta\n",
        "    Lmax += delta\n",
        "    print(\"Optimal Job Sequence: \", sequence)"
      ],
      "metadata": {
        "colab": {
          "base_uri": "https://localhost:8080/"
        },
        "id": "pH17t-WW2wpm",
        "outputId": "72e0c4f4-e6db-4c81-a40e-fbd015a00ed9"
      },
      "execution_count": 6,
      "outputs": [
        {
          "output_type": "stream",
          "name": "stdout",
          "text": [
            "Optimal Job Sequence:  [8, 4, 2, 1, 7, 5, 3, 9, 10, 6, 11]\n"
          ]
        }
      ]
    }
  ]
}